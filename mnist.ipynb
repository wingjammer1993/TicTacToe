{
 "cells": [
  {
   "cell_type": "code",
   "execution_count": 2,
   "metadata": {},
   "outputs": [],
   "source": [
    "import tensorflow as tf"
   ]
  },
  {
   "cell_type": "code",
   "execution_count": 3,
   "metadata": {},
   "outputs": [],
   "source": [
    "from tensorflow.examples.tutorials.mnist import input_data"
   ]
  },
  {
   "cell_type": "code",
   "execution_count": 4,
   "metadata": {
    "scrolled": true
   },
   "outputs": [
    {
     "name": "stdout",
     "output_type": "stream",
     "text": [
      "Successfully downloaded train-images-idx3-ubyte.gz 9912422 bytes.\n",
      "Extracting tmp/data\\train-images-idx3-ubyte.gz\n",
      "Successfully downloaded train-labels-idx1-ubyte.gz 28881 bytes.\n",
      "Extracting tmp/data\\train-labels-idx1-ubyte.gz\n",
      "Successfully downloaded t10k-images-idx3-ubyte.gz 1648877 bytes.\n",
      "Extracting tmp/data\\t10k-images-idx3-ubyte.gz\n",
      "Successfully downloaded t10k-labels-idx1-ubyte.gz 4542 bytes.\n",
      "Extracting tmp/data\\t10k-labels-idx1-ubyte.gz\n"
     ]
    }
   ],
   "source": [
    "mnist = input_data.read_data_sets(\"tmp/data\", one_hot = True)"
   ]
  },
  {
   "cell_type": "code",
   "execution_count": 69,
   "metadata": {},
   "outputs": [],
   "source": [
    "n_nodes_hl1 = 500\n",
    "n_nodes_hl2 = 500\n",
    "n_nodes_hl3 = 500"
   ]
  },
  {
   "cell_type": "code",
   "execution_count": 70,
   "metadata": {},
   "outputs": [],
   "source": [
    "n_classes = 10\n",
    "batch_size = 100"
   ]
  },
  {
   "cell_type": "code",
   "execution_count": 71,
   "metadata": {},
   "outputs": [],
   "source": [
    "x = tf.placeholder('float',[None,784])\n",
    "y = tf.placeholder('float')"
   ]
  },
  {
   "cell_type": "code",
   "execution_count": 81,
   "metadata": {},
   "outputs": [],
   "source": [
    "def NN(data):\n",
    "    hidden_layer_1 = { 'weights': tf.Variable(tf.random_normal([784,n_nodes_hl1])),\n",
    "                       'biases' : tf.Variable(tf.random_normal([n_nodes_hl1]))}\n",
    "    hidden_layer_2 = { 'weights': tf.Variable(tf.random_normal([n_nodes_hl1,n_nodes_hl2])),\n",
    "                       'biases' : tf.Variable(tf.random_normal([n_nodes_hl2]))}\n",
    "    hidden_layer_3 = { 'weights': tf.Variable(tf.random_normal([n_nodes_hl2,n_nodes_hl3])),\n",
    "                       'biases' : tf.Variable(tf.random_normal([n_nodes_hl3]))}\n",
    "    output_layer = { 'weights': tf.Variable(tf.random_normal([n_nodes_hl3,n_classes])),\n",
    "                     'biases' : tf.Variable(tf.random_normal([n_classes]))}\n",
    "    \n",
    "    layer_1 = tf.add(tf.matmul(data,hidden_layer_1['weights']), hidden_layer_1['biases'])\n",
    "    layer_1 = tf.nn.relu(layer_1)\n",
    "    layer_2 = tf.add(tf.matmul(layer_1,hidden_layer_2['weights']), hidden_layer_2['biases'])\n",
    "    layer_2 = tf.nn.relu(layer_2)\n",
    "    layer_3 = tf.add(tf.matmul(layer_2,hidden_layer_3['weights']), hidden_layer_3['biases'])\n",
    "    layer_3 = tf.nn.relu(layer_3)\n",
    "    output = tf.add(tf.matmul(layer_3,output_layer['weights']), output_layer['biases'])\n",
    "    output = tf.nn.relu(output)\n",
    "    \n",
    "    return output\n",
    "    "
   ]
  },
  {
   "cell_type": "code",
   "execution_count": 82,
   "metadata": {},
   "outputs": [],
   "source": [
    "def train_network(x):\n",
    "    prediction = NN(x)\n",
    "    cost = tf.reduce_mean(tf.nn.softmax_cross_entropy_with_logits(logits = prediction, labels = y))\n",
    "    optimizer = tf.train.AdamOptimizer().minimize(cost)\n",
    "    epochs = 10\n",
    "    \n",
    "    with tf.Session() as sess:\n",
    "        sess.run(tf.global_variables_initializer())\n",
    "        \n",
    "        for num in range(epochs):\n",
    "            epoch_loss = 0 \n",
    "            for _ in range(int(mnist.train.num_examples/batch_size)):\n",
    "                ep_x, ep_y = mnist.train.next_batch(batch_size)\n",
    "                _, c = sess.run([optimizer,cost],feed_dict = {x:ep_x, y:ep_y})\n",
    "                epoch_loss += c\n",
    "            print(num)\n",
    "            print(epoch_loss)\n",
    "        \n",
    "        correct = tf.equal(tf.argmax(prediction,1),tf.argmax(y,1))\n",
    "        accuracy = tf.reduce_mean(tf.cast(correct,'float'))\n",
    "        print('Accuracy:',accuracy.eval({x : mnist.test.images, y: mnist.test.labels}))\n",
    "            \n",
    "    "
   ]
  },
  {
   "cell_type": "code",
   "execution_count": 83,
   "metadata": {},
   "outputs": [
    {
     "name": "stdout",
     "output_type": "stream",
     "text": [
      "0\n",
      "464830.524663\n",
      "1\n",
      "1305.70200562\n",
      "2\n",
      "1266.53537679\n",
      "3\n",
      "1265.91538334\n",
      "4\n",
      "1265.91538334\n",
      "5\n",
      "1265.91538334\n",
      "6\n",
      "1265.91538334\n",
      "7\n",
      "1265.91538334\n",
      "8\n",
      "1265.91538334\n",
      "9\n",
      "1265.91538334\n",
      "Accuracy: 0.0982\n"
     ]
    }
   ],
   "source": [
    "train_network(x)"
   ]
  },
  {
   "cell_type": "code",
   "execution_count": null,
   "metadata": {},
   "outputs": [],
   "source": []
  }
 ],
 "metadata": {
  "kernelspec": {
   "display_name": "Python 3",
   "language": "python",
   "name": "python3"
  },
  "language_info": {
   "codemirror_mode": {
    "name": "ipython",
    "version": 3
   },
   "file_extension": ".py",
   "mimetype": "text/x-python",
   "name": "python",
   "nbconvert_exporter": "python",
   "pygments_lexer": "ipython3",
   "version": "3.5.2"
  }
 },
 "nbformat": 4,
 "nbformat_minor": 2
}
